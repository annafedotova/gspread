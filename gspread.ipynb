{
 "cells": [
  {
   "cell_type": "markdown",
   "metadata": {
    "slideshow": {
     "slide_type": "slide"
    }
   },
   "source": [
    "# Working with Google Sheets using Gspread"
   ]
  },
  {
   "cell_type": "markdown",
   "metadata": {
    "slideshow": {
     "slide_type": "slide"
    }
   },
   "source": [
    "## Hello, I'm Anna\n",
    "\n",
    "![career](images/career.png)"
   ]
  },
  {
   "cell_type": "markdown",
   "metadata": {
    "slideshow": {
     "slide_type": "subslide"
    }
   },
   "source": [
    "![py](images/py.png)"
   ]
  },
  {
   "cell_type": "markdown",
   "metadata": {
    "slideshow": {
     "slide_type": "slide"
    }
   },
   "source": [
    "## Why on earth would I want to load data to Google Sheets?\n",
    "\n",
    "**Possible use cases (1)**:\n",
    "\n",
    "- Some users just can't live without their Excel files\n",
    "\n",
    "\n",
    "\n",
    "\n",
    "![excel](images/dilbert_spreadsheet.gif)\n"
   ]
  },
  {
   "cell_type": "markdown",
   "metadata": {
    "slideshow": {
     "slide_type": "subslide"
    }
   },
   "source": [
    "**Possible use cases (2)**:\n",
    "\n",
    "- \"ETL\" \n",
    "\n",
    "Combining data from multiple sources, cleaning and then loading to Google Sheet as a source for BI visualization tool (Tableau, etc.)\n",
    "\n",
    "\n",
    "![etl](images/etl.png)"
   ]
  },
  {
   "cell_type": "code",
   "execution_count": 1,
   "metadata": {
    "slideshow": {
     "slide_type": "skip"
    }
   },
   "outputs": [],
   "source": [
    "class Tweet(object):\n",
    "    def __init__(self, embed_str=None):\n",
    "        self.embed_str = embed_str\n",
    "\n",
    "    def _repr_html_(self):\n",
    "        return self.embed_str\n",
    "\n",
    "s = (\"\"\"\n",
    "<blockquote class=\"twitter-tweet\" data-lang=\"en-gb\"><p lang=\"en\" dir=\"ltr\">So if you&#39;re building out a quick CRUD app for e.g. internal use, Google Docs as a backend (consumed via JSON) is *surprisingly* powerful.</p>&mdash; Patrick McKenzie (@patio11) <a href=\"https://twitter.com/patio11/status/485239825314758656?ref_src=twsrc%5Etfw\">5 July 2014</a></blockquote>\n",
    "<script async src=\"https://platform.twitter.com/widgets.js\" charset=\"utf-8\"></script>\n",
    "\"\"\")"
   ]
  },
  {
   "cell_type": "markdown",
   "metadata": {
    "slideshow": {
     "slide_type": "subslide"
    }
   },
   "source": [
    "**Possible use cases (3)**:\n",
    "\n",
    "- \"Database\" (?)"
   ]
  },
  {
   "cell_type": "code",
   "execution_count": 2,
   "metadata": {
    "slideshow": {
     "slide_type": "fragment"
    }
   },
   "outputs": [
    {
     "data": {
      "text/html": [
       "\n",
       "<blockquote class=\"twitter-tweet\" data-lang=\"en-gb\"><p lang=\"en\" dir=\"ltr\">So if you&#39;re building out a quick CRUD app for e.g. internal use, Google Docs as a backend (consumed via JSON) is *surprisingly* powerful.</p>&mdash; Patrick McKenzie (@patio11) <a href=\"https://twitter.com/patio11/status/485239825314758656?ref_src=twsrc%5Etfw\">5 July 2014</a></blockquote>\n",
       "<script async src=\"https://platform.twitter.com/widgets.js\" charset=\"utf-8\"></script>\n"
      ],
      "text/plain": [
       "<__main__.Tweet at 0x7f2328301898>"
      ]
     },
     "execution_count": 2,
     "metadata": {},
     "output_type": "execute_result"
    }
   ],
   "source": [
    "Tweet(s)"
   ]
  },
  {
   "cell_type": "markdown",
   "metadata": {
    "slideshow": {
     "slide_type": "slide"
    }
   },
   "source": [
    "## Importing the necessary libraries\n",
    "\n",
    "We will use the following libraries:\n",
    "\n",
    "- gspread – to interact with Google Spreadsheets (more info [here](https://gspread.readthedocs.io/en/latest/))\n",
    "- gspread_dataframe – to allow data flow between Google Spreadsheet and a Pandas DataFrame (more info [here](https://pypi.org/project/gspread-dataframe/))\n",
    "- oauth2client – to authorize the Google Drive API using OAuth 2.0 (more info [here](https://gspread.readthedocs.io/en/latest/oauth2.html))\n",
    "\n",
    "\n",
    "**Installing the libraries with pip**:\n",
    "\n",
    "```\n",
    "pip install gspread\n",
    "pip install gspread-dataframe\n",
    "pip install oauth2client\n",
    "```"
   ]
  },
  {
   "cell_type": "code",
   "execution_count": 6,
   "metadata": {
    "slideshow": {
     "slide_type": "fragment"
    }
   },
   "outputs": [],
   "source": [
    "import gspread\n",
    "from gspread_dataframe import get_as_dataframe, set_with_dataframe\n",
    "from oauth2client.service_account import ServiceAccountCredentials\n",
    "import pandas as pd"
   ]
  },
  {
   "cell_type": "markdown",
   "metadata": {
    "slideshow": {
     "slide_type": "slide"
    }
   },
   "source": [
    "## Getting the credentials\n",
    "\n",
    "\n",
    "\n",
    "### Create project \n",
    "\n",
    "Go to https://console.developers.google.com/ and click \"New Project\"\n",
    "\n",
    "\n",
    "\n",
    "![create_project](images/create_project.png)\n"
   ]
  },
  {
   "cell_type": "markdown",
   "metadata": {
    "slideshow": {
     "slide_type": "subslide"
    }
   },
   "source": [
    "### Enable APIs\n",
    "\n",
    "Click \"Enable APIs and Services\"\n",
    "\n",
    "![enable_apis](images/enable_api.jpg)\n",
    "\n",
    "\n"
   ]
  },
  {
   "cell_type": "markdown",
   "metadata": {
    "slideshow": {
     "slide_type": "subslide"
    }
   },
   "source": [
    "### Enable Google Sheets APIs\n",
    "\n",
    "Search for Google Sheets API, then click \"Enable\"\n",
    "\n",
    "![sheets_api](images/sheets_api.jpg)\n"
   ]
  },
  {
   "cell_type": "markdown",
   "metadata": {
    "slideshow": {
     "slide_type": "subslide"
    }
   },
   "source": [
    "### Create API credentials\n",
    "\n",
    "Click \"Create Credentials\"\n",
    "\n",
    "![create_cred](images/create_cred.jpg)\n"
   ]
  },
  {
   "cell_type": "markdown",
   "metadata": {
    "slideshow": {
     "slide_type": "subslide"
    }
   },
   "source": [
    "### Create Service Account Key\n",
    "\n",
    "Choose \"Service Account Key\", assign Account Name and Account ID and select \"JSON\"\n",
    "\n",
    "![key](images/key.jpg)\n"
   ]
  },
  {
   "cell_type": "markdown",
   "metadata": {
    "slideshow": {
     "slide_type": "subslide"
    }
   },
   "source": [
    "### Final steps\n",
    "\n",
    "- Place the downloaded .json file with credentials in the folder with your project\n",
    "- Make sure to share the spreadsheets with the created API account\n",
    "\n",
    "\n",
    "![share](images/share.jpg)"
   ]
  },
  {
   "cell_type": "markdown",
   "metadata": {
    "slideshow": {
     "slide_type": "slide"
    }
   },
   "source": [
    "## Connecting to Google Sheets"
   ]
  },
  {
   "cell_type": "code",
   "execution_count": 7,
   "metadata": {
    "slideshow": {
     "slide_type": "fragment"
    }
   },
   "outputs": [],
   "source": [
    "# adding drive scope will permit us create shpreadsheets\n",
    "\n",
    "scope = ['https://spreadsheets.google.com/feeds',\n",
    "         'https://www.googleapis.com/auth/drive']\n",
    "\n",
    "\n",
    "# authorization process\n",
    "\n",
    "credentials = ServiceAccountCredentials.from_json_keyfile_name('Gspread-eff37025c365.json', scope)\n",
    "gc = gspread.authorize(credentials)"
   ]
  },
  {
   "cell_type": "markdown",
   "metadata": {
    "slideshow": {
     "slide_type": "skip"
    }
   },
   "source": [
    "## Main functions"
   ]
  },
  {
   "cell_type": "markdown",
   "metadata": {
    "slideshow": {
     "slide_type": "slide"
    }
   },
   "source": [
    "### Creating a Google Sheet\n",
    "\n",
    "After creating a google sheet, we need to share it with our mail (otherwise it will be visible only to the API user)"
   ]
  },
  {
   "cell_type": "code",
   "execution_count": 5,
   "metadata": {
    "slideshow": {
     "slide_type": "fragment"
    }
   },
   "outputs": [],
   "source": [
    "sheet = gc.create('A new spreadsheet')\n",
    "sheet.share('admi.fedotova@gmail.com', perm_type='user', role='writer')"
   ]
  },
  {
   "cell_type": "markdown",
   "metadata": {
    "slideshow": {
     "slide_type": "slide"
    }
   },
   "source": [
    "### Opening Google Sheet"
   ]
  },
  {
   "cell_type": "code",
   "execution_count": 6,
   "metadata": {
    "slideshow": {
     "slide_type": "fragment"
    }
   },
   "outputs": [
    {
     "name": "stdout",
     "output_type": "stream",
     "text": [
      "<Spreadsheet 'test_gspread' id:18DWySEljDqg4jqByLFoS791C_qvd1YrMWnQVo42Ysa0>\n"
     ]
    }
   ],
   "source": [
    "# by name\n",
    "sheet = gc.open(\"test_gspread\")\n",
    "print(sheet)"
   ]
  },
  {
   "cell_type": "code",
   "execution_count": 8,
   "metadata": {
    "slideshow": {
     "slide_type": "fragment"
    }
   },
   "outputs": [
    {
     "name": "stdout",
     "output_type": "stream",
     "text": [
      "<Spreadsheet 'test_gspread' id:18DWySEljDqg4jqByLFoS791C_qvd1YrMWnQVo42Ysa0>\n"
     ]
    }
   ],
   "source": [
    "# by id\n",
    "sheet_id = '18DWySEljDqg4jqByLFoS791C_qvd1YrMWnQVo42Ysa0'\n",
    "sheet = gc.open_by_key(sheet_id)\n",
    "print(sheet)"
   ]
  },
  {
   "cell_type": "markdown",
   "metadata": {
    "slideshow": {
     "slide_type": "slide"
    }
   },
   "source": [
    "### Selecting sheet's tabs"
   ]
  },
  {
   "cell_type": "code",
   "execution_count": 8,
   "metadata": {
    "slideshow": {
     "slide_type": "fragment"
    }
   },
   "outputs": [
    {
     "name": "stdout",
     "output_type": "stream",
     "text": [
      "[<Worksheet 'Sheet1' id:0>]\n"
     ]
    }
   ],
   "source": [
    "# getting a list of sheet's tabs\n",
    "tabs = sheet.worksheets()\n",
    "print(tabs)"
   ]
  },
  {
   "cell_type": "code",
   "execution_count": 9,
   "metadata": {
    "slideshow": {
     "slide_type": "fragment"
    }
   },
   "outputs": [
    {
     "name": "stdout",
     "output_type": "stream",
     "text": [
      "<Worksheet 'Sheet1' id:0>\n"
     ]
    }
   ],
   "source": [
    "# selecting sheet's tab by name\n",
    "tab_name = 'Sheet1'\n",
    "tab = sheet.worksheet(tab_name)\n",
    "print(tab)"
   ]
  },
  {
   "cell_type": "code",
   "execution_count": 10,
   "metadata": {
    "slideshow": {
     "slide_type": "fragment"
    }
   },
   "outputs": [
    {
     "name": "stdout",
     "output_type": "stream",
     "text": [
      "<Worksheet 'Sheet1' id:0>\n"
     ]
    }
   ],
   "source": [
    "# selecting sheet's tab by position\n",
    "tab = sheet.get_worksheet(0)\n",
    "print(tab)"
   ]
  },
  {
   "cell_type": "markdown",
   "metadata": {
    "slideshow": {
     "slide_type": "slide"
    }
   },
   "source": [
    "### Updating sheet's cell"
   ]
  },
  {
   "cell_type": "code",
   "execution_count": 10,
   "metadata": {
    "slideshow": {
     "slide_type": "fragment"
    }
   },
   "outputs": [
    {
     "data": {
      "text/plain": [
       "{'spreadsheetId': '18DWySEljDqg4jqByLFoS791C_qvd1YrMWnQVo42Ysa0',\n",
       " 'updatedRange': 'Sheet1!B1',\n",
       " 'updatedRows': 1,\n",
       " 'updatedColumns': 1,\n",
       " 'updatedCells': 1}"
      ]
     },
     "execution_count": 10,
     "metadata": {},
     "output_type": "execute_result"
    }
   ],
   "source": [
    "# by cell name\n",
    "tab.update_acell('A1', 'Hello,')\n",
    "\n",
    "# by cell index\n",
    "tab.update_cell(1, 2, 'world!')"
   ]
  },
  {
   "cell_type": "markdown",
   "metadata": {
    "slideshow": {
     "slide_type": "slide"
    }
   },
   "source": [
    "### Loading Pandas dataframe to Google Sheet"
   ]
  },
  {
   "cell_type": "code",
   "execution_count": 11,
   "metadata": {
    "slideshow": {
     "slide_type": "skip"
    }
   },
   "outputs": [],
   "source": [
    "import numpy as np \n",
    "np.random.seed(0)"
   ]
  },
  {
   "cell_type": "code",
   "execution_count": 12,
   "metadata": {
    "slideshow": {
     "slide_type": "fragment"
    }
   },
   "outputs": [],
   "source": [
    "# creating a dataframe with random numbers\n",
    "df = pd.DataFrame(np.random.randint(0,100,size=(25, 4)), columns=list('ABCD'))\n",
    "\n",
    "# loading the dataframe into spreadsheet\n",
    "set_with_dataframe(tab, df)"
   ]
  },
  {
   "cell_type": "markdown",
   "metadata": {
    "slideshow": {
     "slide_type": "slide"
    }
   },
   "source": [
    "### Appending row to Google Sheet"
   ]
  },
  {
   "cell_type": "code",
   "execution_count": 13,
   "metadata": {
    "slideshow": {
     "slide_type": "fragment"
    }
   },
   "outputs": [
    {
     "data": {
      "text/plain": [
       "{'spreadsheetId': '18DWySEljDqg4jqByLFoS791C_qvd1YrMWnQVo42Ysa0',\n",
       " 'tableRange': 'Sheet1!A1:D26',\n",
       " 'updates': {'spreadsheetId': '18DWySEljDqg4jqByLFoS791C_qvd1YrMWnQVo42Ysa0',\n",
       "  'updatedRange': 'Sheet1!A27:D27',\n",
       "  'updatedRows': 1,\n",
       "  'updatedColumns': 4,\n",
       "  'updatedCells': 4}}"
      ]
     },
     "execution_count": 13,
     "metadata": {},
     "output_type": "execute_result"
    }
   ],
   "source": [
    "row = [1, 2, 3, 4]\n",
    "tab.append_row(row)"
   ]
  },
  {
   "cell_type": "markdown",
   "metadata": {
    "slideshow": {
     "slide_type": "slide"
    }
   },
   "source": [
    "### Getting data from Google Sheet"
   ]
  },
  {
   "cell_type": "code",
   "execution_count": 15,
   "metadata": {
    "slideshow": {
     "slide_type": "fragment"
    }
   },
   "outputs": [
    {
     "name": "stdout",
     "output_type": "stream",
     "text": [
      "44\n"
     ]
    }
   ],
   "source": [
    "# getting data from a specific cell\n",
    "val = tab.acell('A2').value\n",
    "print(val)"
   ]
  },
  {
   "cell_type": "code",
   "execution_count": 16,
   "metadata": {
    "slideshow": {
     "slide_type": "fragment"
    }
   },
   "outputs": [
    {
     "name": "stdout",
     "output_type": "stream",
     "text": [
      "['A', 'B', 'C', 'D']\n"
     ]
    }
   ],
   "source": [
    "# getting data from a specific row\n",
    "row_list = tab.row_values(1)\n",
    "print(row_list)"
   ]
  },
  {
   "cell_type": "code",
   "execution_count": 17,
   "metadata": {
    "slideshow": {
     "slide_type": "fragment"
    }
   },
   "outputs": [
    {
     "name": "stdout",
     "output_type": "stream",
     "text": [
      "['A', '44', '67', '36', '88', '39', '81', '72', '69', '82', '29', '39', '57', '23', '28', '36', '17', '58', '41', '46', '14', '42', '6', '76', '20', '79', '1', '1']\n"
     ]
    }
   ],
   "source": [
    "# getting data from a specific column\n",
    "col_list = tab.col_values(1)\n",
    "print(col_list)"
   ]
  },
  {
   "cell_type": "markdown",
   "metadata": {
    "slideshow": {
     "slide_type": "slide"
    }
   },
   "source": [
    "### Loading data from Google Sheet to a Pandas dataframe"
   ]
  },
  {
   "cell_type": "code",
   "execution_count": 18,
   "metadata": {
    "slideshow": {
     "slide_type": "fragment"
    }
   },
   "outputs": [
    {
     "data": {
      "text/html": [
       "<div>\n",
       "<style scoped>\n",
       "    .dataframe tbody tr th:only-of-type {\n",
       "        vertical-align: middle;\n",
       "    }\n",
       "\n",
       "    .dataframe tbody tr th {\n",
       "        vertical-align: top;\n",
       "    }\n",
       "\n",
       "    .dataframe thead th {\n",
       "        text-align: right;\n",
       "    }\n",
       "</style>\n",
       "<table border=\"1\" class=\"dataframe\">\n",
       "  <thead>\n",
       "    <tr style=\"text-align: right;\">\n",
       "      <th></th>\n",
       "      <th>A</th>\n",
       "      <th>B</th>\n",
       "      <th>C</th>\n",
       "      <th>D</th>\n",
       "    </tr>\n",
       "  </thead>\n",
       "  <tbody>\n",
       "    <tr>\n",
       "      <th>0</th>\n",
       "      <td>44.0</td>\n",
       "      <td>47.0</td>\n",
       "      <td>64.0</td>\n",
       "      <td>67.0</td>\n",
       "    </tr>\n",
       "    <tr>\n",
       "      <th>1</th>\n",
       "      <td>67.0</td>\n",
       "      <td>9.0</td>\n",
       "      <td>83.0</td>\n",
       "      <td>21.0</td>\n",
       "    </tr>\n",
       "    <tr>\n",
       "      <th>2</th>\n",
       "      <td>36.0</td>\n",
       "      <td>87.0</td>\n",
       "      <td>70.0</td>\n",
       "      <td>88.0</td>\n",
       "    </tr>\n",
       "    <tr>\n",
       "      <th>3</th>\n",
       "      <td>88.0</td>\n",
       "      <td>12.0</td>\n",
       "      <td>58.0</td>\n",
       "      <td>65.0</td>\n",
       "    </tr>\n",
       "    <tr>\n",
       "      <th>4</th>\n",
       "      <td>39.0</td>\n",
       "      <td>87.0</td>\n",
       "      <td>46.0</td>\n",
       "      <td>88.0</td>\n",
       "    </tr>\n",
       "  </tbody>\n",
       "</table>\n",
       "</div>"
      ],
      "text/plain": [
       "      A     B     C     D\n",
       "0  44.0  47.0  64.0  67.0\n",
       "1  67.0   9.0  83.0  21.0\n",
       "2  36.0  87.0  70.0  88.0\n",
       "3  88.0  12.0  58.0  65.0\n",
       "4  39.0  87.0  46.0  88.0"
      ]
     },
     "execution_count": 18,
     "metadata": {},
     "output_type": "execute_result"
    }
   ],
   "source": [
    "df2 = get_as_dataframe(tab, usecols=[0,1,2,3])\n",
    "df2.head()"
   ]
  },
  {
   "cell_type": "markdown",
   "metadata": {
    "slideshow": {
     "slide_type": "slide"
    }
   },
   "source": [
    "## Case Study \n",
    "\n",
    "\n",
    "![case_etl](images/case_etl.png)"
   ]
  },
  {
   "cell_type": "code",
   "execution_count": 19,
   "metadata": {
    "slideshow": {
     "slide_type": "subslide"
    }
   },
   "outputs": [
    {
     "data": {
      "text/html": [
       "<div>\n",
       "<style scoped>\n",
       "    .dataframe tbody tr th:only-of-type {\n",
       "        vertical-align: middle;\n",
       "    }\n",
       "\n",
       "    .dataframe tbody tr th {\n",
       "        vertical-align: top;\n",
       "    }\n",
       "\n",
       "    .dataframe thead th {\n",
       "        text-align: right;\n",
       "    }\n",
       "</style>\n",
       "<table border=\"1\" class=\"dataframe\">\n",
       "  <thead>\n",
       "    <tr style=\"text-align: right;\">\n",
       "      <th></th>\n",
       "      <th>sourceId</th>\n",
       "      <th>publisherId</th>\n",
       "      <th>countryName</th>\n",
       "      <th>os</th>\n",
       "      <th>lineCategory</th>\n",
       "      <th>conversions</th>\n",
       "      <th>earlyConversions</th>\n",
       "      <th>kpiGoalReach</th>\n",
       "      <th>has_goal</th>\n",
       "      <th>fraudIndex</th>\n",
       "      <th>appName</th>\n",
       "    </tr>\n",
       "  </thead>\n",
       "  <tbody>\n",
       "    <tr>\n",
       "      <th>0</th>\n",
       "      <td>1940</td>\n",
       "      <td>1006950361451204608_100136</td>\n",
       "      <td>Brazil</td>\n",
       "      <td>Android</td>\n",
       "      <td>Entertainment</td>\n",
       "      <td>1</td>\n",
       "      <td>1</td>\n",
       "      <td>NaN</td>\n",
       "      <td>0</td>\n",
       "      <td>0.0</td>\n",
       "      <td>au.com.stklab.minehd</td>\n",
       "    </tr>\n",
       "    <tr>\n",
       "      <th>1</th>\n",
       "      <td>1880</td>\n",
       "      <td>75_112181.121819</td>\n",
       "      <td>Russia</td>\n",
       "      <td>iOS</td>\n",
       "      <td>Gambling</td>\n",
       "      <td>1</td>\n",
       "      <td>0</td>\n",
       "      <td>NaN</td>\n",
       "      <td>0</td>\n",
       "      <td>67.0</td>\n",
       "      <td>com.apalon.optimizer</td>\n",
       "    </tr>\n",
       "    <tr>\n",
       "      <th>2</th>\n",
       "      <td>2198</td>\n",
       "      <td>35_8168_10085</td>\n",
       "      <td>Republic of Korea</td>\n",
       "      <td>iOS</td>\n",
       "      <td>Games</td>\n",
       "      <td>3</td>\n",
       "      <td>0</td>\n",
       "      <td>250.0</td>\n",
       "      <td>1</td>\n",
       "      <td>0.0</td>\n",
       "      <td>com.lenovo.anyshare.gps</td>\n",
       "    </tr>\n",
       "    <tr>\n",
       "      <th>3</th>\n",
       "      <td>1548</td>\n",
       "      <td>61_sz36wfsa</td>\n",
       "      <td>United States</td>\n",
       "      <td>iOS</td>\n",
       "      <td>Finance</td>\n",
       "      <td>1</td>\n",
       "      <td>1</td>\n",
       "      <td>0.0</td>\n",
       "      <td>1</td>\n",
       "      <td>11.0</td>\n",
       "      <td>com.itube.samsung</td>\n",
       "    </tr>\n",
       "    <tr>\n",
       "      <th>4</th>\n",
       "      <td>2133</td>\n",
       "      <td>50_103_10053T_197369136878549</td>\n",
       "      <td>Mexico</td>\n",
       "      <td>Android</td>\n",
       "      <td>Food&amp;Drinks</td>\n",
       "      <td>1</td>\n",
       "      <td>1</td>\n",
       "      <td>NaN</td>\n",
       "      <td>0</td>\n",
       "      <td>33.0</td>\n",
       "      <td>com.edujoy.masha.games</td>\n",
       "    </tr>\n",
       "  </tbody>\n",
       "</table>\n",
       "</div>"
      ],
      "text/plain": [
       "   sourceId                    publisherId        countryName       os  \\\n",
       "0      1940     1006950361451204608_100136             Brazil  Android   \n",
       "1      1880               75_112181.121819             Russia      iOS   \n",
       "2      2198                  35_8168_10085  Republic of Korea      iOS   \n",
       "3      1548                    61_sz36wfsa      United States      iOS   \n",
       "4      2133  50_103_10053T_197369136878549             Mexico  Android   \n",
       "\n",
       "    lineCategory  conversions  earlyConversions  kpiGoalReach  has_goal  \\\n",
       "0  Entertainment            1                 1           NaN         0   \n",
       "1       Gambling            1                 0           NaN         0   \n",
       "2          Games            3                 0         250.0         1   \n",
       "3        Finance            1                 1           0.0         1   \n",
       "4    Food&Drinks            1                 1           NaN         0   \n",
       "\n",
       "   fraudIndex                  appName  \n",
       "0         0.0     au.com.stklab.minehd  \n",
       "1        67.0     com.apalon.optimizer  \n",
       "2         0.0  com.lenovo.anyshare.gps  \n",
       "3        11.0        com.itube.samsung  \n",
       "4        33.0   com.edujoy.masha.games  "
      ]
     },
     "execution_count": 19,
     "metadata": {},
     "output_type": "execute_result"
    }
   ],
   "source": [
    "# loading the data into a dataframe\n",
    "df = pd.read_csv('raw_data.csv')\n",
    "df.head()"
   ]
  },
  {
   "cell_type": "code",
   "execution_count": 20,
   "metadata": {
    "slideshow": {
     "slide_type": "subslide"
    }
   },
   "outputs": [],
   "source": [
    "# opening spreadsheet by id\n",
    "sheet_id = '1NElsAGUtKlT8c_a_q6wpMIAamgF1L-qhTIR8XbyUMV4'\n",
    "sheet = gc.open_by_key(sheet_id)\n",
    "\n",
    "# selecting spreadsheet tab\n",
    "tab_name = 'raw'\n",
    "tab = sheet.worksheet(tab_name)\n",
    "\n",
    "# deleting existing content\n",
    "tab.resize(rows=1)\n",
    "tab.resize(rows=50000)\n",
    "\n",
    "# loading the dataframe into spreadsheet\n",
    "set_with_dataframe(tab, df)"
   ]
  },
  {
   "cell_type": "markdown",
   "metadata": {
    "slideshow": {
     "slide_type": "subslide"
    }
   },
   "source": [
    "### Cron Job\n",
    "\n",
    "The last step was to schedule a cron job to execute the script once a week.\n",
    "\n",
    "![cron](images/cron.png)"
   ]
  },
  {
   "cell_type": "markdown",
   "metadata": {
    "slideshow": {
     "slide_type": "subslide"
    }
   },
   "source": [
    "### My first code put into production \n",
    "\n",
    "(and it worked)\n",
    "\n",
    "![magic](images/magic.gif)"
   ]
  },
  {
   "cell_type": "markdown",
   "metadata": {
    "slideshow": {
     "slide_type": "slide"
    }
   },
   "source": [
    "## Key takeaways for python beginners\n",
    "\n",
    "\n",
    "- There is a library for that\n",
    "- Read the documentation and see examples\n",
    "- Start small and iterate"
   ]
  },
  {
   "cell_type": "markdown",
   "metadata": {
    "slideshow": {
     "slide_type": "skip"
    }
   },
   "source": [
    "## List of references:\n",
    "\n",
    "- https://www.twilio.com/blog/2017/02/an-easy-way-to-read-and-write-to-a-google-spreadsheet-in-python.html\n",
    "- https://gspread.readthedocs.io/en/latest/\n",
    "- https://pypi.org/project/gspread-dataframe/\n",
    "- http://www.indjango.com/access-google-sheets-in-python-using-gspread/\n",
    "- https://medium.com/@CROSP/manage-google-spreadsheets-with-python-and-gspread-6530cc9f15d1"
   ]
  },
  {
   "cell_type": "code",
   "execution_count": 21,
   "metadata": {
    "slideshow": {
     "slide_type": "skip"
    }
   },
   "outputs": [
    {
     "name": "stdout",
     "output_type": "stream",
     "text": [
      "[NbConvertApp] Converting notebook gspread.ipynb to slides\n",
      "[NbConvertApp] Writing 314055 bytes to gspread.slides.html\n",
      "[NbConvertApp] Redirecting reveal.js requests to https://cdnjs.cloudflare.com/ajax/libs/reveal.js/3.5.0\n",
      "Serving your slides at http://127.0.0.1:8000/gspread.slides.html\n",
      "Use Control-C to stop this server\n",
      "WARNING:tornado.access:404 GET /custom.css (127.0.0.1) 0.55ms\n",
      "WARNING:tornado.access:404 GET /custom.css (127.0.0.1) 0.74ms\n",
      "^C\n",
      "\n",
      "Interrupted\n"
     ]
    }
   ],
   "source": [
    "!jupyter nbconvert gspread.ipynb --to slides --post serve"
   ]
  }
 ],
 "metadata": {
  "celltoolbar": "Slideshow",
  "kernelspec": {
   "display_name": "Gspread",
   "language": "python",
   "name": "gspread"
  },
  "language_info": {
   "codemirror_mode": {
    "name": "ipython",
    "version": 3
   },
   "file_extension": ".py",
   "mimetype": "text/x-python",
   "name": "python",
   "nbconvert_exporter": "python",
   "pygments_lexer": "ipython3",
   "version": "3.6.8"
  }
 },
 "nbformat": 4,
 "nbformat_minor": 2
}
